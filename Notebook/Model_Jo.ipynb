{
 "cells": [
  {
   "cell_type": "code",
   "execution_count": 210,
   "metadata": {},
   "outputs": [],
   "source": [
    "import pandas as pd\n",
    "from sklearn.model_selection import train_test_split\n",
    "from sklearn.pipeline import make_pipeline\n",
    "from sklearn.preprocessing import OneHotEncoder, StandardScaler\n",
    "from sklearn.linear_model import Ridge\n",
    "from sklearn.model_selection import cross_val_score\n",
    "from sklearn.compose import ColumnTransformer\n",
    "from sklearn.metrics import mean_squared_error, r2_score\n",
    "from xgboost import XGBRegressor"
   ]
  },
  {
   "cell_type": "code",
   "execution_count": 203,
   "metadata": {},
   "outputs": [],
   "source": [
    "spotify = pd.read_csv('../data/Spotify dataset export 2025-02-10 09-00-03.csv')"
   ]
  },
  {
   "cell_type": "code",
   "execution_count": 204,
   "metadata": {},
   "outputs": [
    {
     "data": {
      "application/vnd.microsoft.datawrangler.viewer.v0+json": {
       "columns": [
        {
         "name": "index",
         "rawType": "int64",
         "type": "integer"
        },
        {
         "name": "Artist",
         "rawType": "object",
         "type": "string"
        },
        {
         "name": "Track",
         "rawType": "object",
         "type": "string"
        },
        {
         "name": "Album",
         "rawType": "object",
         "type": "string"
        },
        {
         "name": "Album_type",
         "rawType": "object",
         "type": "string"
        },
        {
         "name": "Danceability",
         "rawType": "float64",
         "type": "float"
        },
        {
         "name": "Energy",
         "rawType": "float64",
         "type": "float"
        },
        {
         "name": "Loudness",
         "rawType": "float64",
         "type": "float"
        },
        {
         "name": "Speechiness",
         "rawType": "float64",
         "type": "float"
        },
        {
         "name": "Acousticness",
         "rawType": "float64",
         "type": "float"
        },
        {
         "name": "Instrumentalness",
         "rawType": "float64",
         "type": "float"
        },
        {
         "name": "Liveness",
         "rawType": "float64",
         "type": "float"
        },
        {
         "name": "Valence",
         "rawType": "float64",
         "type": "float"
        },
        {
         "name": "Tempo",
         "rawType": "float64",
         "type": "float"
        },
        {
         "name": "Duration_min",
         "rawType": "float64",
         "type": "float"
        },
        {
         "name": "Title",
         "rawType": "object",
         "type": "string"
        },
        {
         "name": "Channel",
         "rawType": "object",
         "type": "string"
        },
        {
         "name": "Views",
         "rawType": "int64",
         "type": "integer"
        },
        {
         "name": "Likes",
         "rawType": "int64",
         "type": "integer"
        },
        {
         "name": "Comments",
         "rawType": "int64",
         "type": "integer"
        },
        {
         "name": "Licensed",
         "rawType": "bool",
         "type": "boolean"
        },
        {
         "name": "official_video",
         "rawType": "bool",
         "type": "boolean"
        },
        {
         "name": "Stream",
         "rawType": "int64",
         "type": "integer"
        },
        {
         "name": "EnergyLiveness",
         "rawType": "float64",
         "type": "float"
        },
        {
         "name": "most_playedon",
         "rawType": "object",
         "type": "string"
        }
       ],
       "conversionMethod": "pd.DataFrame",
       "ref": "4fc8baec-130e-48d4-87fa-0ff8f9f42cec",
       "rows": [
        [
         "0",
         "Gorillaz",
         "Feel Good Inc.",
         "Demon Days",
         "album",
         "0.818",
         "0.705",
         "-6.679",
         "0.177",
         "0.00836",
         "0.00233",
         "0.613",
         "0.772",
         "138.559",
         "3.7106666666666666",
         "Gorillaz - Feel Good Inc. (Official Video)",
         "Gorillaz",
         "693555221",
         "6220896",
         "169907",
         "True",
         "True",
         "1040234854",
         "1.1500815660685155",
         "Spotify"
        ],
        [
         "1",
         "Gorillaz",
         "Rhinestone Eyes",
         "Plastic Beach",
         "album",
         "0.676",
         "0.703",
         "-5.815",
         "0.0302",
         "0.0869",
         "0.000687",
         "0.0463",
         "0.852",
         "92.761",
         "3.3362166666666666",
         "Gorillaz - Rhinestone Eyes [Storyboard Film] (Official Music Video)",
         "Gorillaz",
         "72011645",
         "1079128",
         "31003",
         "True",
         "True",
         "310083733",
         "15.183585313174945",
         "Spotify"
        ],
        [
         "2",
         "Gorillaz",
         "New Gold (feat. Tame Impala and Bootie Brown)",
         "New Gold (feat. Tame Impala and Bootie Brown)",
         "single",
         "0.695",
         "0.923",
         "-3.93",
         "0.0522",
         "0.0425",
         "0.0469",
         "0.116",
         "0.551",
         "108.014",
         "3.5858333333333334",
         "Gorillaz - New Gold ft. Tame Impala & Bootie Brown (Official Visualiser)",
         "Gorillaz",
         "8435055",
         "282142",
         "7399",
         "True",
         "True",
         "63063467",
         "7.956896551724138",
         "Spotify"
        ],
        [
         "3",
         "Gorillaz",
         "On Melancholy Hill",
         "Plastic Beach",
         "album",
         "0.689",
         "0.739",
         "-5.81",
         "0.026",
         "1.51e-05",
         "0.509",
         "0.064",
         "0.578",
         "120.423",
         "3.897783333333334",
         "Gorillaz - On Melancholy Hill (Official Video)",
         "Gorillaz",
         "211754952",
         "1788577",
         "55229",
         "True",
         "True",
         "434663559",
         "11.546875",
         "Spotify"
        ],
        [
         "4",
         "Gorillaz",
         "Clint Eastwood",
         "Gorillaz",
         "album",
         "0.663",
         "0.694",
         "-8.627",
         "0.171",
         "0.0253",
         "0.0",
         "0.0698",
         "0.525",
         "167.953",
         "5.682",
         "Gorillaz - Clint Eastwood (Official Video)",
         "Gorillaz",
         "618480958",
         "6197318",
         "155930",
         "True",
         "True",
         "617259738",
         "9.94269340974212",
         "Youtube"
        ]
       ],
       "shape": {
        "columns": 24,
        "rows": 5
       }
      },
      "text/html": [
       "<div>\n",
       "<style scoped>\n",
       "    .dataframe tbody tr th:only-of-type {\n",
       "        vertical-align: middle;\n",
       "    }\n",
       "\n",
       "    .dataframe tbody tr th {\n",
       "        vertical-align: top;\n",
       "    }\n",
       "\n",
       "    .dataframe thead th {\n",
       "        text-align: right;\n",
       "    }\n",
       "</style>\n",
       "<table border=\"1\" class=\"dataframe\">\n",
       "  <thead>\n",
       "    <tr style=\"text-align: right;\">\n",
       "      <th></th>\n",
       "      <th>Artist</th>\n",
       "      <th>Track</th>\n",
       "      <th>Album</th>\n",
       "      <th>Album_type</th>\n",
       "      <th>Danceability</th>\n",
       "      <th>Energy</th>\n",
       "      <th>Loudness</th>\n",
       "      <th>Speechiness</th>\n",
       "      <th>Acousticness</th>\n",
       "      <th>Instrumentalness</th>\n",
       "      <th>...</th>\n",
       "      <th>Title</th>\n",
       "      <th>Channel</th>\n",
       "      <th>Views</th>\n",
       "      <th>Likes</th>\n",
       "      <th>Comments</th>\n",
       "      <th>Licensed</th>\n",
       "      <th>official_video</th>\n",
       "      <th>Stream</th>\n",
       "      <th>EnergyLiveness</th>\n",
       "      <th>most_playedon</th>\n",
       "    </tr>\n",
       "  </thead>\n",
       "  <tbody>\n",
       "    <tr>\n",
       "      <th>0</th>\n",
       "      <td>Gorillaz</td>\n",
       "      <td>Feel Good Inc.</td>\n",
       "      <td>Demon Days</td>\n",
       "      <td>album</td>\n",
       "      <td>0.818</td>\n",
       "      <td>0.705</td>\n",
       "      <td>-6.679</td>\n",
       "      <td>0.1770</td>\n",
       "      <td>0.008360</td>\n",
       "      <td>0.002330</td>\n",
       "      <td>...</td>\n",
       "      <td>Gorillaz - Feel Good Inc. (Official Video)</td>\n",
       "      <td>Gorillaz</td>\n",
       "      <td>693555221</td>\n",
       "      <td>6220896</td>\n",
       "      <td>169907</td>\n",
       "      <td>True</td>\n",
       "      <td>True</td>\n",
       "      <td>1040234854</td>\n",
       "      <td>1.150082</td>\n",
       "      <td>Spotify</td>\n",
       "    </tr>\n",
       "    <tr>\n",
       "      <th>1</th>\n",
       "      <td>Gorillaz</td>\n",
       "      <td>Rhinestone Eyes</td>\n",
       "      <td>Plastic Beach</td>\n",
       "      <td>album</td>\n",
       "      <td>0.676</td>\n",
       "      <td>0.703</td>\n",
       "      <td>-5.815</td>\n",
       "      <td>0.0302</td>\n",
       "      <td>0.086900</td>\n",
       "      <td>0.000687</td>\n",
       "      <td>...</td>\n",
       "      <td>Gorillaz - Rhinestone Eyes [Storyboard Film] (...</td>\n",
       "      <td>Gorillaz</td>\n",
       "      <td>72011645</td>\n",
       "      <td>1079128</td>\n",
       "      <td>31003</td>\n",
       "      <td>True</td>\n",
       "      <td>True</td>\n",
       "      <td>310083733</td>\n",
       "      <td>15.183585</td>\n",
       "      <td>Spotify</td>\n",
       "    </tr>\n",
       "    <tr>\n",
       "      <th>2</th>\n",
       "      <td>Gorillaz</td>\n",
       "      <td>New Gold (feat. Tame Impala and Bootie Brown)</td>\n",
       "      <td>New Gold (feat. Tame Impala and Bootie Brown)</td>\n",
       "      <td>single</td>\n",
       "      <td>0.695</td>\n",
       "      <td>0.923</td>\n",
       "      <td>-3.930</td>\n",
       "      <td>0.0522</td>\n",
       "      <td>0.042500</td>\n",
       "      <td>0.046900</td>\n",
       "      <td>...</td>\n",
       "      <td>Gorillaz - New Gold ft. Tame Impala &amp; Bootie B...</td>\n",
       "      <td>Gorillaz</td>\n",
       "      <td>8435055</td>\n",
       "      <td>282142</td>\n",
       "      <td>7399</td>\n",
       "      <td>True</td>\n",
       "      <td>True</td>\n",
       "      <td>63063467</td>\n",
       "      <td>7.956897</td>\n",
       "      <td>Spotify</td>\n",
       "    </tr>\n",
       "    <tr>\n",
       "      <th>3</th>\n",
       "      <td>Gorillaz</td>\n",
       "      <td>On Melancholy Hill</td>\n",
       "      <td>Plastic Beach</td>\n",
       "      <td>album</td>\n",
       "      <td>0.689</td>\n",
       "      <td>0.739</td>\n",
       "      <td>-5.810</td>\n",
       "      <td>0.0260</td>\n",
       "      <td>0.000015</td>\n",
       "      <td>0.509000</td>\n",
       "      <td>...</td>\n",
       "      <td>Gorillaz - On Melancholy Hill (Official Video)</td>\n",
       "      <td>Gorillaz</td>\n",
       "      <td>211754952</td>\n",
       "      <td>1788577</td>\n",
       "      <td>55229</td>\n",
       "      <td>True</td>\n",
       "      <td>True</td>\n",
       "      <td>434663559</td>\n",
       "      <td>11.546875</td>\n",
       "      <td>Spotify</td>\n",
       "    </tr>\n",
       "    <tr>\n",
       "      <th>4</th>\n",
       "      <td>Gorillaz</td>\n",
       "      <td>Clint Eastwood</td>\n",
       "      <td>Gorillaz</td>\n",
       "      <td>album</td>\n",
       "      <td>0.663</td>\n",
       "      <td>0.694</td>\n",
       "      <td>-8.627</td>\n",
       "      <td>0.1710</td>\n",
       "      <td>0.025300</td>\n",
       "      <td>0.000000</td>\n",
       "      <td>...</td>\n",
       "      <td>Gorillaz - Clint Eastwood (Official Video)</td>\n",
       "      <td>Gorillaz</td>\n",
       "      <td>618480958</td>\n",
       "      <td>6197318</td>\n",
       "      <td>155930</td>\n",
       "      <td>True</td>\n",
       "      <td>True</td>\n",
       "      <td>617259738</td>\n",
       "      <td>9.942693</td>\n",
       "      <td>Youtube</td>\n",
       "    </tr>\n",
       "  </tbody>\n",
       "</table>\n",
       "<p>5 rows × 24 columns</p>\n",
       "</div>"
      ],
      "text/plain": [
       "     Artist                                          Track  \\\n",
       "0  Gorillaz                                 Feel Good Inc.   \n",
       "1  Gorillaz                                Rhinestone Eyes   \n",
       "2  Gorillaz  New Gold (feat. Tame Impala and Bootie Brown)   \n",
       "3  Gorillaz                             On Melancholy Hill   \n",
       "4  Gorillaz                                 Clint Eastwood   \n",
       "\n",
       "                                           Album Album_type  Danceability  \\\n",
       "0                                     Demon Days      album         0.818   \n",
       "1                                  Plastic Beach      album         0.676   \n",
       "2  New Gold (feat. Tame Impala and Bootie Brown)     single         0.695   \n",
       "3                                  Plastic Beach      album         0.689   \n",
       "4                                       Gorillaz      album         0.663   \n",
       "\n",
       "   Energy  Loudness  Speechiness  Acousticness  Instrumentalness  ...  \\\n",
       "0   0.705    -6.679       0.1770      0.008360          0.002330  ...   \n",
       "1   0.703    -5.815       0.0302      0.086900          0.000687  ...   \n",
       "2   0.923    -3.930       0.0522      0.042500          0.046900  ...   \n",
       "3   0.739    -5.810       0.0260      0.000015          0.509000  ...   \n",
       "4   0.694    -8.627       0.1710      0.025300          0.000000  ...   \n",
       "\n",
       "                                               Title   Channel      Views  \\\n",
       "0         Gorillaz - Feel Good Inc. (Official Video)  Gorillaz  693555221   \n",
       "1  Gorillaz - Rhinestone Eyes [Storyboard Film] (...  Gorillaz   72011645   \n",
       "2  Gorillaz - New Gold ft. Tame Impala & Bootie B...  Gorillaz    8435055   \n",
       "3     Gorillaz - On Melancholy Hill (Official Video)  Gorillaz  211754952   \n",
       "4         Gorillaz - Clint Eastwood (Official Video)  Gorillaz  618480958   \n",
       "\n",
       "     Likes Comments Licensed  official_video      Stream  EnergyLiveness  \\\n",
       "0  6220896   169907     True            True  1040234854        1.150082   \n",
       "1  1079128    31003     True            True   310083733       15.183585   \n",
       "2   282142     7399     True            True    63063467        7.956897   \n",
       "3  1788577    55229     True            True   434663559       11.546875   \n",
       "4  6197318   155930     True            True   617259738        9.942693   \n",
       "\n",
       "   most_playedon  \n",
       "0        Spotify  \n",
       "1        Spotify  \n",
       "2        Spotify  \n",
       "3        Spotify  \n",
       "4        Youtube  \n",
       "\n",
       "[5 rows x 24 columns]"
      ]
     },
     "execution_count": 204,
     "metadata": {},
     "output_type": "execute_result"
    }
   ],
   "source": [
    "spotify.head()"
   ]
  },
  {
   "cell_type": "code",
   "execution_count": 205,
   "metadata": {},
   "outputs": [
    {
     "data": {
      "text/plain": [
       "Index(['Artist', 'Track', 'Album', 'Album_type', 'Danceability', 'Energy',\n",
       "       'Loudness', 'Speechiness', 'Acousticness', 'Instrumentalness',\n",
       "       'Liveness', 'Valence', 'Tempo', 'Duration_min', 'Title', 'Channel',\n",
       "       'Views', 'Likes', 'Comments', 'Licensed', 'official_video', 'Stream',\n",
       "       'EnergyLiveness', 'most_playedon'],\n",
       "      dtype='object')"
      ]
     },
     "execution_count": 205,
     "metadata": {},
     "output_type": "execute_result"
    }
   ],
   "source": [
    "spotify.columns"
   ]
  },
  {
   "cell_type": "code",
   "execution_count": 206,
   "metadata": {},
   "outputs": [],
   "source": [
    "X = spotify.drop(columns=['Stream', 'Track','Album', 'Title', 'Channel', 'most_playedon', 'Likes', 'Views', 'Comments'])\n",
    "y = spotify['Stream']"
   ]
  },
  {
   "cell_type": "code",
   "execution_count": 207,
   "metadata": {},
   "outputs": [],
   "source": [
    "transformer = ColumnTransformer(transformers=[\n",
    "   ('num', StandardScaler(), ['Danceability', 'Energy', 'Loudness', 'Speechiness', 'Acousticness', \n",
    "                               'Instrumentalness', 'Liveness', 'Valence', 'Tempo', 'Duration_min']),\n",
    "    ('cat', OneHotEncoder(handle_unknown='ignore'), ['Album_type', 'Artist'])\n",
    "])\n",
    "pipeline = make_pipeline(transformer, \n",
    "                         Ridge(alpha=1.0))"
   ]
  },
  {
   "cell_type": "code",
   "execution_count": 208,
   "metadata": {},
   "outputs": [
    {
     "name": "stdout",
     "output_type": "stream",
     "text": [
      "MSE: 3.673004350798753e+16\n",
      "R2: 0.3512130848243985\n"
     ]
    }
   ],
   "source": [
    "X_train, X_test, y_train, y_test = train_test_split(X, y, test_size=0.2, random_state=42)\n",
    "\n",
    "pipeline.fit(X_train, y_train)\n",
    "\n",
    "y_pred = pipeline.predict(X_test)\n",
    "\n",
    "print('MSE:', mean_squared_error(y_test, y_pred))\n",
    "print('R2:', r2_score(y_test, y_pred))"
   ]
  },
  {
   "cell_type": "code",
   "execution_count": 211,
   "metadata": {},
   "outputs": [
    {
     "name": "stdout",
     "output_type": "stream",
     "text": [
      "Cross-Validation R2 Scores: [ 0.02211653 -0.66292586 -0.04903348 -0.02794893  0.01288377]\n",
      "Mean R2 Score: -0.140981593766166\n"
     ]
    }
   ],
   "source": [
    "scores = cross_val_score(pipeline, X, y, cv=5, scoring='r2')\n",
    "print(\"Cross-Validation R2 Scores:\", scores)\n",
    "print(\"Mean R2 Score:\", scores.mean())"
   ]
  },
  {
   "cell_type": "code",
   "execution_count": null,
   "metadata": {},
   "outputs": [],
   "source": []
  }
 ],
 "metadata": {
  "kernelspec": {
   "display_name": "base",
   "language": "python",
   "name": "python3"
  },
  "language_info": {
   "codemirror_mode": {
    "name": "ipython",
    "version": 3
   },
   "file_extension": ".py",
   "mimetype": "text/x-python",
   "name": "python",
   "nbconvert_exporter": "python",
   "pygments_lexer": "ipython3",
   "version": "3.11.4"
  }
 },
 "nbformat": 4,
 "nbformat_minor": 2
}

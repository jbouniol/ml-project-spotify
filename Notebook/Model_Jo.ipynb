{
 "cells": [
  {
   "cell_type": "code",
   "execution_count": 10,
   "metadata": {},
   "outputs": [],
   "source": [
    "import pandas as pd\n",
    "from sklearn.model_selection import train_test_split\n",
    "from sklearn.pipeline import make_pipeline\n",
    "from sklearn.preprocessing import OneHotEncoder, StandardScaler\n",
    "from sklearn.ensemble import RandomForestRegressor\n",
    "from sklearn.preprocessing import FunctionTransformer\n",
    "from sklearn.model_selection import cross_val_score\n",
    "from sklearn.compose import ColumnTransformer\n",
    "from sklearn.feature_extraction.text import TfidfVectorizer\n",
    "from sklearn.metrics import mean_squared_error, r2_score\n",
    "from xgboost import XGBRegressor\n",
    "from sklearn.preprocessing import TargetEncoder\n",
    "import numpy as np"
   ]
  },
  {
   "cell_type": "code",
   "execution_count": 11,
   "metadata": {},
   "outputs": [],
   "source": [
    "spotify = pd.read_csv('../data/Spotify dataset export 2025-02-10 09-00-03.csv')"
   ]
  },
  {
   "cell_type": "code",
   "execution_count": 12,
   "metadata": {},
   "outputs": [
    {
     "data": {
      "application/vnd.microsoft.datawrangler.viewer.v0+json": {
       "columns": [
        {
         "name": "index",
         "rawType": "int64",
         "type": "integer"
        },
        {
         "name": "Artist",
         "rawType": "object",
         "type": "string"
        },
        {
         "name": "Track",
         "rawType": "object",
         "type": "string"
        },
        {
         "name": "Album",
         "rawType": "object",
         "type": "string"
        },
        {
         "name": "Album_type",
         "rawType": "object",
         "type": "string"
        },
        {
         "name": "Danceability",
         "rawType": "float64",
         "type": "float"
        },
        {
         "name": "Energy",
         "rawType": "float64",
         "type": "float"
        },
        {
         "name": "Loudness",
         "rawType": "float64",
         "type": "float"
        },
        {
         "name": "Speechiness",
         "rawType": "float64",
         "type": "float"
        },
        {
         "name": "Acousticness",
         "rawType": "float64",
         "type": "float"
        },
        {
         "name": "Instrumentalness",
         "rawType": "float64",
         "type": "float"
        },
        {
         "name": "Liveness",
         "rawType": "float64",
         "type": "float"
        },
        {
         "name": "Valence",
         "rawType": "float64",
         "type": "float"
        },
        {
         "name": "Tempo",
         "rawType": "float64",
         "type": "float"
        },
        {
         "name": "Duration_min",
         "rawType": "float64",
         "type": "float"
        },
        {
         "name": "Title",
         "rawType": "object",
         "type": "string"
        },
        {
         "name": "Channel",
         "rawType": "object",
         "type": "string"
        },
        {
         "name": "Views",
         "rawType": "int64",
         "type": "integer"
        },
        {
         "name": "Likes",
         "rawType": "int64",
         "type": "integer"
        },
        {
         "name": "Comments",
         "rawType": "int64",
         "type": "integer"
        },
        {
         "name": "Licensed",
         "rawType": "bool",
         "type": "boolean"
        },
        {
         "name": "official_video",
         "rawType": "bool",
         "type": "boolean"
        },
        {
         "name": "Stream",
         "rawType": "int64",
         "type": "integer"
        },
        {
         "name": "EnergyLiveness",
         "rawType": "float64",
         "type": "float"
        },
        {
         "name": "most_playedon",
         "rawType": "object",
         "type": "string"
        }
       ],
       "conversionMethod": "pd.DataFrame",
       "ref": "91112535-aff4-4a7d-9a23-6f4efd12a501",
       "rows": [
        [
         "0",
         "Gorillaz",
         "Feel Good Inc.",
         "Demon Days",
         "album",
         "0.818",
         "0.705",
         "-6.679",
         "0.177",
         "0.00836",
         "0.00233",
         "0.613",
         "0.772",
         "138.559",
         "3.7106666666666666",
         "Gorillaz - Feel Good Inc. (Official Video)",
         "Gorillaz",
         "693555221",
         "6220896",
         "169907",
         "True",
         "True",
         "1040234854",
         "1.1500815660685155",
         "Spotify"
        ],
        [
         "1",
         "Gorillaz",
         "Rhinestone Eyes",
         "Plastic Beach",
         "album",
         "0.676",
         "0.703",
         "-5.815",
         "0.0302",
         "0.0869",
         "0.000687",
         "0.0463",
         "0.852",
         "92.761",
         "3.3362166666666666",
         "Gorillaz - Rhinestone Eyes [Storyboard Film] (Official Music Video)",
         "Gorillaz",
         "72011645",
         "1079128",
         "31003",
         "True",
         "True",
         "310083733",
         "15.183585313174945",
         "Spotify"
        ],
        [
         "2",
         "Gorillaz",
         "New Gold (feat. Tame Impala and Bootie Brown)",
         "New Gold (feat. Tame Impala and Bootie Brown)",
         "single",
         "0.695",
         "0.923",
         "-3.93",
         "0.0522",
         "0.0425",
         "0.0469",
         "0.116",
         "0.551",
         "108.014",
         "3.5858333333333334",
         "Gorillaz - New Gold ft. Tame Impala & Bootie Brown (Official Visualiser)",
         "Gorillaz",
         "8435055",
         "282142",
         "7399",
         "True",
         "True",
         "63063467",
         "7.956896551724138",
         "Spotify"
        ],
        [
         "3",
         "Gorillaz",
         "On Melancholy Hill",
         "Plastic Beach",
         "album",
         "0.689",
         "0.739",
         "-5.81",
         "0.026",
         "1.51e-05",
         "0.509",
         "0.064",
         "0.578",
         "120.423",
         "3.897783333333334",
         "Gorillaz - On Melancholy Hill (Official Video)",
         "Gorillaz",
         "211754952",
         "1788577",
         "55229",
         "True",
         "True",
         "434663559",
         "11.546875",
         "Spotify"
        ],
        [
         "4",
         "Gorillaz",
         "Clint Eastwood",
         "Gorillaz",
         "album",
         "0.663",
         "0.694",
         "-8.627",
         "0.171",
         "0.0253",
         "0.0",
         "0.0698",
         "0.525",
         "167.953",
         "5.682",
         "Gorillaz - Clint Eastwood (Official Video)",
         "Gorillaz",
         "618480958",
         "6197318",
         "155930",
         "True",
         "True",
         "617259738",
         "9.94269340974212",
         "Youtube"
        ]
       ],
       "shape": {
        "columns": 24,
        "rows": 5
       }
      },
      "text/html": [
       "<div>\n",
       "<style scoped>\n",
       "    .dataframe tbody tr th:only-of-type {\n",
       "        vertical-align: middle;\n",
       "    }\n",
       "\n",
       "    .dataframe tbody tr th {\n",
       "        vertical-align: top;\n",
       "    }\n",
       "\n",
       "    .dataframe thead th {\n",
       "        text-align: right;\n",
       "    }\n",
       "</style>\n",
       "<table border=\"1\" class=\"dataframe\">\n",
       "  <thead>\n",
       "    <tr style=\"text-align: right;\">\n",
       "      <th></th>\n",
       "      <th>Artist</th>\n",
       "      <th>Track</th>\n",
       "      <th>Album</th>\n",
       "      <th>Album_type</th>\n",
       "      <th>Danceability</th>\n",
       "      <th>Energy</th>\n",
       "      <th>Loudness</th>\n",
       "      <th>Speechiness</th>\n",
       "      <th>Acousticness</th>\n",
       "      <th>Instrumentalness</th>\n",
       "      <th>...</th>\n",
       "      <th>Title</th>\n",
       "      <th>Channel</th>\n",
       "      <th>Views</th>\n",
       "      <th>Likes</th>\n",
       "      <th>Comments</th>\n",
       "      <th>Licensed</th>\n",
       "      <th>official_video</th>\n",
       "      <th>Stream</th>\n",
       "      <th>EnergyLiveness</th>\n",
       "      <th>most_playedon</th>\n",
       "    </tr>\n",
       "  </thead>\n",
       "  <tbody>\n",
       "    <tr>\n",
       "      <th>0</th>\n",
       "      <td>Gorillaz</td>\n",
       "      <td>Feel Good Inc.</td>\n",
       "      <td>Demon Days</td>\n",
       "      <td>album</td>\n",
       "      <td>0.818</td>\n",
       "      <td>0.705</td>\n",
       "      <td>-6.679</td>\n",
       "      <td>0.1770</td>\n",
       "      <td>0.008360</td>\n",
       "      <td>0.002330</td>\n",
       "      <td>...</td>\n",
       "      <td>Gorillaz - Feel Good Inc. (Official Video)</td>\n",
       "      <td>Gorillaz</td>\n",
       "      <td>693555221</td>\n",
       "      <td>6220896</td>\n",
       "      <td>169907</td>\n",
       "      <td>True</td>\n",
       "      <td>True</td>\n",
       "      <td>1040234854</td>\n",
       "      <td>1.150082</td>\n",
       "      <td>Spotify</td>\n",
       "    </tr>\n",
       "    <tr>\n",
       "      <th>1</th>\n",
       "      <td>Gorillaz</td>\n",
       "      <td>Rhinestone Eyes</td>\n",
       "      <td>Plastic Beach</td>\n",
       "      <td>album</td>\n",
       "      <td>0.676</td>\n",
       "      <td>0.703</td>\n",
       "      <td>-5.815</td>\n",
       "      <td>0.0302</td>\n",
       "      <td>0.086900</td>\n",
       "      <td>0.000687</td>\n",
       "      <td>...</td>\n",
       "      <td>Gorillaz - Rhinestone Eyes [Storyboard Film] (...</td>\n",
       "      <td>Gorillaz</td>\n",
       "      <td>72011645</td>\n",
       "      <td>1079128</td>\n",
       "      <td>31003</td>\n",
       "      <td>True</td>\n",
       "      <td>True</td>\n",
       "      <td>310083733</td>\n",
       "      <td>15.183585</td>\n",
       "      <td>Spotify</td>\n",
       "    </tr>\n",
       "    <tr>\n",
       "      <th>2</th>\n",
       "      <td>Gorillaz</td>\n",
       "      <td>New Gold (feat. Tame Impala and Bootie Brown)</td>\n",
       "      <td>New Gold (feat. Tame Impala and Bootie Brown)</td>\n",
       "      <td>single</td>\n",
       "      <td>0.695</td>\n",
       "      <td>0.923</td>\n",
       "      <td>-3.930</td>\n",
       "      <td>0.0522</td>\n",
       "      <td>0.042500</td>\n",
       "      <td>0.046900</td>\n",
       "      <td>...</td>\n",
       "      <td>Gorillaz - New Gold ft. Tame Impala &amp; Bootie B...</td>\n",
       "      <td>Gorillaz</td>\n",
       "      <td>8435055</td>\n",
       "      <td>282142</td>\n",
       "      <td>7399</td>\n",
       "      <td>True</td>\n",
       "      <td>True</td>\n",
       "      <td>63063467</td>\n",
       "      <td>7.956897</td>\n",
       "      <td>Spotify</td>\n",
       "    </tr>\n",
       "    <tr>\n",
       "      <th>3</th>\n",
       "      <td>Gorillaz</td>\n",
       "      <td>On Melancholy Hill</td>\n",
       "      <td>Plastic Beach</td>\n",
       "      <td>album</td>\n",
       "      <td>0.689</td>\n",
       "      <td>0.739</td>\n",
       "      <td>-5.810</td>\n",
       "      <td>0.0260</td>\n",
       "      <td>0.000015</td>\n",
       "      <td>0.509000</td>\n",
       "      <td>...</td>\n",
       "      <td>Gorillaz - On Melancholy Hill (Official Video)</td>\n",
       "      <td>Gorillaz</td>\n",
       "      <td>211754952</td>\n",
       "      <td>1788577</td>\n",
       "      <td>55229</td>\n",
       "      <td>True</td>\n",
       "      <td>True</td>\n",
       "      <td>434663559</td>\n",
       "      <td>11.546875</td>\n",
       "      <td>Spotify</td>\n",
       "    </tr>\n",
       "    <tr>\n",
       "      <th>4</th>\n",
       "      <td>Gorillaz</td>\n",
       "      <td>Clint Eastwood</td>\n",
       "      <td>Gorillaz</td>\n",
       "      <td>album</td>\n",
       "      <td>0.663</td>\n",
       "      <td>0.694</td>\n",
       "      <td>-8.627</td>\n",
       "      <td>0.1710</td>\n",
       "      <td>0.025300</td>\n",
       "      <td>0.000000</td>\n",
       "      <td>...</td>\n",
       "      <td>Gorillaz - Clint Eastwood (Official Video)</td>\n",
       "      <td>Gorillaz</td>\n",
       "      <td>618480958</td>\n",
       "      <td>6197318</td>\n",
       "      <td>155930</td>\n",
       "      <td>True</td>\n",
       "      <td>True</td>\n",
       "      <td>617259738</td>\n",
       "      <td>9.942693</td>\n",
       "      <td>Youtube</td>\n",
       "    </tr>\n",
       "  </tbody>\n",
       "</table>\n",
       "<p>5 rows × 24 columns</p>\n",
       "</div>"
      ],
      "text/plain": [
       "     Artist                                          Track  \\\n",
       "0  Gorillaz                                 Feel Good Inc.   \n",
       "1  Gorillaz                                Rhinestone Eyes   \n",
       "2  Gorillaz  New Gold (feat. Tame Impala and Bootie Brown)   \n",
       "3  Gorillaz                             On Melancholy Hill   \n",
       "4  Gorillaz                                 Clint Eastwood   \n",
       "\n",
       "                                           Album Album_type  Danceability  \\\n",
       "0                                     Demon Days      album         0.818   \n",
       "1                                  Plastic Beach      album         0.676   \n",
       "2  New Gold (feat. Tame Impala and Bootie Brown)     single         0.695   \n",
       "3                                  Plastic Beach      album         0.689   \n",
       "4                                       Gorillaz      album         0.663   \n",
       "\n",
       "   Energy  Loudness  Speechiness  Acousticness  Instrumentalness  ...  \\\n",
       "0   0.705    -6.679       0.1770      0.008360          0.002330  ...   \n",
       "1   0.703    -5.815       0.0302      0.086900          0.000687  ...   \n",
       "2   0.923    -3.930       0.0522      0.042500          0.046900  ...   \n",
       "3   0.739    -5.810       0.0260      0.000015          0.509000  ...   \n",
       "4   0.694    -8.627       0.1710      0.025300          0.000000  ...   \n",
       "\n",
       "                                               Title   Channel      Views  \\\n",
       "0         Gorillaz - Feel Good Inc. (Official Video)  Gorillaz  693555221   \n",
       "1  Gorillaz - Rhinestone Eyes [Storyboard Film] (...  Gorillaz   72011645   \n",
       "2  Gorillaz - New Gold ft. Tame Impala & Bootie B...  Gorillaz    8435055   \n",
       "3     Gorillaz - On Melancholy Hill (Official Video)  Gorillaz  211754952   \n",
       "4         Gorillaz - Clint Eastwood (Official Video)  Gorillaz  618480958   \n",
       "\n",
       "     Likes Comments Licensed  official_video      Stream  EnergyLiveness  \\\n",
       "0  6220896   169907     True            True  1040234854        1.150082   \n",
       "1  1079128    31003     True            True   310083733       15.183585   \n",
       "2   282142     7399     True            True    63063467        7.956897   \n",
       "3  1788577    55229     True            True   434663559       11.546875   \n",
       "4  6197318   155930     True            True   617259738        9.942693   \n",
       "\n",
       "   most_playedon  \n",
       "0        Spotify  \n",
       "1        Spotify  \n",
       "2        Spotify  \n",
       "3        Spotify  \n",
       "4        Youtube  \n",
       "\n",
       "[5 rows x 24 columns]"
      ]
     },
     "execution_count": 12,
     "metadata": {},
     "output_type": "execute_result"
    }
   ],
   "source": [
    "spotify.head()"
   ]
  },
  {
   "cell_type": "code",
   "execution_count": 13,
   "metadata": {},
   "outputs": [
    {
     "data": {
      "text/plain": [
       "Index(['Artist', 'Track', 'Album', 'Album_type', 'Danceability', 'Energy',\n",
       "       'Loudness', 'Speechiness', 'Acousticness', 'Instrumentalness',\n",
       "       'Liveness', 'Valence', 'Tempo', 'Duration_min', 'Title', 'Channel',\n",
       "       'Views', 'Likes', 'Comments', 'Licensed', 'official_video', 'Stream',\n",
       "       'EnergyLiveness', 'most_playedon'],\n",
       "      dtype='object')"
      ]
     },
     "execution_count": 13,
     "metadata": {},
     "output_type": "execute_result"
    }
   ],
   "source": [
    "spotify.columns"
   ]
  },
  {
   "cell_type": "code",
   "execution_count": 18,
   "metadata": {},
   "outputs": [
    {
     "data": {
      "application/vnd.microsoft.datawrangler.viewer.v0+json": {
       "columns": [
        {
         "name": "index",
         "rawType": "int64",
         "type": "integer"
        },
        {
         "name": "Danceability",
         "rawType": "float64",
         "type": "float"
        },
        {
         "name": "Energy",
         "rawType": "float64",
         "type": "float"
        },
        {
         "name": "Loudness",
         "rawType": "float64",
         "type": "float"
        },
        {
         "name": "Speechiness",
         "rawType": "float64",
         "type": "float"
        },
        {
         "name": "Acousticness",
         "rawType": "float64",
         "type": "float"
        },
        {
         "name": "Instrumentalness",
         "rawType": "float64",
         "type": "float"
        },
        {
         "name": "Liveness",
         "rawType": "float64",
         "type": "float"
        },
        {
         "name": "Valence",
         "rawType": "float64",
         "type": "float"
        },
        {
         "name": "Tempo",
         "rawType": "float64",
         "type": "float"
        },
        {
         "name": "Duration_min",
         "rawType": "float64",
         "type": "float"
        },
        {
         "name": "Views",
         "rawType": "float64",
         "type": "float"
        },
        {
         "name": "Likes",
         "rawType": "float64",
         "type": "float"
        },
        {
         "name": "Comments",
         "rawType": "float64",
         "type": "float"
        },
        {
         "name": "Stream",
         "rawType": "float64",
         "type": "float"
        },
        {
         "name": "EnergyLiveness",
         "rawType": "float64",
         "type": "float"
        }
       ],
       "conversionMethod": "pd.DataFrame",
       "ref": "0c1d3f60-c52e-4d2f-8811-599d7a915faf",
       "rows": [
        [
         "0",
         "1.1957583548599342",
         "0.3258703471393062",
         "0.21538572353298435",
         "0.7155238483864224",
         "-0.9892377710489508",
         "-0.27803299849346247",
         "2.483870087433871",
         "0.9852839368960739",
         "0.6082453627667989",
         "-0.015237131055069072",
         "2.206627720989247",
         "3.142134765359405",
         "0.7483384599795708",
         "3.7449202789716396",
         "-0.9755181207518054"
        ],
        [
         "1",
         "0.3377530975816855",
         "0.3165362876505242",
         "0.4016179801087949",
         "-0.593095688406624",
         "-0.7147280733866427",
         "-0.28651883154609775",
         "-0.8728013816382323",
         "1.3111012271684739",
         "-0.9396445762624447",
         "-0.19481565089546543",
         "-0.07346315073169866",
         "0.24308560967008",
         "0.021740859854288166",
         "0.7321535070653067",
         "2.4327847094398036"
        ],
        [
         "2",
         "0.45255661792173235",
         "1.3432828314165397",
         "0.8079233084020855",
         "-0.396981043928102",
         "-0.8699130819963508",
         "-0.04783605439367269",
         "-0.4599550760191647",
         "0.08521367251856844",
         "-0.42412063984572235",
         "-0.07510463065913578",
         "-0.3066896019598667",
         "-0.2062737527897223",
         "-0.10173009672980712",
         "-0.2871073390633726",
         "0.6776461351799509"
        ],
        [
         "3",
         "0.4163028746564542",
         "0.4845493584485996",
         "0.4026957130750903",
         "-0.6305357568979781",
         "-1.0184045138045172",
         "2.338836771913549",
         "-0.7679609281309512",
         "0.19517700798550314",
         "-0.004718782703185748",
         "0.07450017442622067",
         "0.43917578719338374",
         "0.6430895624844887",
         "0.14846545713467676",
         "1.2461977226088348",
         "1.5495405619804135"
        ],
        [
         "4",
         "0.25920332050691614",
         "0.2745330199510054",
         "-0.20449904013562573",
         "0.6620380362559165",
         "-0.9300297970433549",
         "-0.2900670770160676",
         "-0.7336064292415596",
         "-0.02067694681996172",
         "1.601709637796835",
         "0.9301737972719033",
         "1.9312228284327233",
         "3.1288409370511574",
         "0.6752257011176872",
         "1.9996303818846684",
         "1.1599346052110953"
        ]
       ],
       "shape": {
        "columns": 15,
        "rows": 5
       }
      },
      "text/html": [
       "<div>\n",
       "<style scoped>\n",
       "    .dataframe tbody tr th:only-of-type {\n",
       "        vertical-align: middle;\n",
       "    }\n",
       "\n",
       "    .dataframe tbody tr th {\n",
       "        vertical-align: top;\n",
       "    }\n",
       "\n",
       "    .dataframe thead th {\n",
       "        text-align: right;\n",
       "    }\n",
       "</style>\n",
       "<table border=\"1\" class=\"dataframe\">\n",
       "  <thead>\n",
       "    <tr style=\"text-align: right;\">\n",
       "      <th></th>\n",
       "      <th>Danceability</th>\n",
       "      <th>Energy</th>\n",
       "      <th>Loudness</th>\n",
       "      <th>Speechiness</th>\n",
       "      <th>Acousticness</th>\n",
       "      <th>Instrumentalness</th>\n",
       "      <th>Liveness</th>\n",
       "      <th>Valence</th>\n",
       "      <th>Tempo</th>\n",
       "      <th>Duration_min</th>\n",
       "      <th>Views</th>\n",
       "      <th>Likes</th>\n",
       "      <th>Comments</th>\n",
       "      <th>Stream</th>\n",
       "      <th>EnergyLiveness</th>\n",
       "    </tr>\n",
       "  </thead>\n",
       "  <tbody>\n",
       "    <tr>\n",
       "      <th>0</th>\n",
       "      <td>1.195758</td>\n",
       "      <td>0.325870</td>\n",
       "      <td>0.215386</td>\n",
       "      <td>0.715524</td>\n",
       "      <td>-0.989238</td>\n",
       "      <td>-0.278033</td>\n",
       "      <td>2.483870</td>\n",
       "      <td>0.985284</td>\n",
       "      <td>0.608245</td>\n",
       "      <td>-0.015237</td>\n",
       "      <td>2.206628</td>\n",
       "      <td>3.142135</td>\n",
       "      <td>0.748338</td>\n",
       "      <td>3.744920</td>\n",
       "      <td>-0.975518</td>\n",
       "    </tr>\n",
       "    <tr>\n",
       "      <th>1</th>\n",
       "      <td>0.337753</td>\n",
       "      <td>0.316536</td>\n",
       "      <td>0.401618</td>\n",
       "      <td>-0.593096</td>\n",
       "      <td>-0.714728</td>\n",
       "      <td>-0.286519</td>\n",
       "      <td>-0.872801</td>\n",
       "      <td>1.311101</td>\n",
       "      <td>-0.939645</td>\n",
       "      <td>-0.194816</td>\n",
       "      <td>-0.073463</td>\n",
       "      <td>0.243086</td>\n",
       "      <td>0.021741</td>\n",
       "      <td>0.732154</td>\n",
       "      <td>2.432785</td>\n",
       "    </tr>\n",
       "    <tr>\n",
       "      <th>2</th>\n",
       "      <td>0.452557</td>\n",
       "      <td>1.343283</td>\n",
       "      <td>0.807923</td>\n",
       "      <td>-0.396981</td>\n",
       "      <td>-0.869913</td>\n",
       "      <td>-0.047836</td>\n",
       "      <td>-0.459955</td>\n",
       "      <td>0.085214</td>\n",
       "      <td>-0.424121</td>\n",
       "      <td>-0.075105</td>\n",
       "      <td>-0.306690</td>\n",
       "      <td>-0.206274</td>\n",
       "      <td>-0.101730</td>\n",
       "      <td>-0.287107</td>\n",
       "      <td>0.677646</td>\n",
       "    </tr>\n",
       "    <tr>\n",
       "      <th>3</th>\n",
       "      <td>0.416303</td>\n",
       "      <td>0.484549</td>\n",
       "      <td>0.402696</td>\n",
       "      <td>-0.630536</td>\n",
       "      <td>-1.018405</td>\n",
       "      <td>2.338837</td>\n",
       "      <td>-0.767961</td>\n",
       "      <td>0.195177</td>\n",
       "      <td>-0.004719</td>\n",
       "      <td>0.074500</td>\n",
       "      <td>0.439176</td>\n",
       "      <td>0.643090</td>\n",
       "      <td>0.148465</td>\n",
       "      <td>1.246198</td>\n",
       "      <td>1.549541</td>\n",
       "    </tr>\n",
       "    <tr>\n",
       "      <th>4</th>\n",
       "      <td>0.259203</td>\n",
       "      <td>0.274533</td>\n",
       "      <td>-0.204499</td>\n",
       "      <td>0.662038</td>\n",
       "      <td>-0.930030</td>\n",
       "      <td>-0.290067</td>\n",
       "      <td>-0.733606</td>\n",
       "      <td>-0.020677</td>\n",
       "      <td>1.601710</td>\n",
       "      <td>0.930174</td>\n",
       "      <td>1.931223</td>\n",
       "      <td>3.128841</td>\n",
       "      <td>0.675226</td>\n",
       "      <td>1.999630</td>\n",
       "      <td>1.159935</td>\n",
       "    </tr>\n",
       "  </tbody>\n",
       "</table>\n",
       "</div>"
      ],
      "text/plain": [
       "   Danceability    Energy  Loudness  Speechiness  Acousticness  \\\n",
       "0      1.195758  0.325870  0.215386     0.715524     -0.989238   \n",
       "1      0.337753  0.316536  0.401618    -0.593096     -0.714728   \n",
       "2      0.452557  1.343283  0.807923    -0.396981     -0.869913   \n",
       "3      0.416303  0.484549  0.402696    -0.630536     -1.018405   \n",
       "4      0.259203  0.274533 -0.204499     0.662038     -0.930030   \n",
       "\n",
       "   Instrumentalness  Liveness   Valence     Tempo  Duration_min     Views  \\\n",
       "0         -0.278033  2.483870  0.985284  0.608245     -0.015237  2.206628   \n",
       "1         -0.286519 -0.872801  1.311101 -0.939645     -0.194816 -0.073463   \n",
       "2         -0.047836 -0.459955  0.085214 -0.424121     -0.075105 -0.306690   \n",
       "3          2.338837 -0.767961  0.195177 -0.004719      0.074500  0.439176   \n",
       "4         -0.290067 -0.733606 -0.020677  1.601710      0.930174  1.931223   \n",
       "\n",
       "      Likes  Comments    Stream  EnergyLiveness  \n",
       "0  3.142135  0.748338  3.744920       -0.975518  \n",
       "1  0.243086  0.021741  0.732154        2.432785  \n",
       "2 -0.206274 -0.101730 -0.287107        0.677646  \n",
       "3  0.643090  0.148465  1.246198        1.549541  \n",
       "4  3.128841  0.675226  1.999630        1.159935  "
      ]
     },
     "execution_count": 18,
     "metadata": {},
     "output_type": "execute_result"
    }
   ],
   "source": [
    "#Scaling the data to make it easier to work with\n",
    "from sklearn.preprocessing import StandardScaler\n",
    "\n",
    "scaler = StandardScaler()\n",
    "numeric_columns = ['Danceability', 'Energy', 'Loudness', 'Speechiness', 'Acousticness', \n",
    "\t\t\t\t  'Instrumentalness', 'Liveness', 'Valence', 'Tempo', 'Duration_min', \n",
    "\t\t\t\t  'Views', 'Likes', 'Comments', 'Stream', 'EnergyLiveness']\n",
    "spotify_scaled = scaler.fit_transform(spotify[numeric_columns])\n",
    "spotify_scaled = pd.DataFrame(spotify_scaled, columns=numeric_columns)\n",
    "\n",
    "spotify_scaled.head()"
   ]
  },
  {
   "cell_type": "code",
   "execution_count": 19,
   "metadata": {},
   "outputs": [
    {
     "name": "stderr",
     "output_type": "stream",
     "text": [
      "/Library/Frameworks/Python.framework/Versions/3.12/lib/python3.12/site-packages/seaborn/categorical.py:632: FutureWarning: SeriesGroupBy.grouper is deprecated and will be removed in a future version of pandas.\n",
      "  positions = grouped.grouper.result_index.to_numpy(dtype=float)\n"
     ]
    },
    {
     "data": {
      "text/plain": [
       "Text(0.5, 1.0, 'Distribution of predictors with outliers')"
      ]
     },
     "execution_count": 19,
     "metadata": {},
     "output_type": "execute_result"
    },
    {
     "data": {
      "image/png": "[encoded data removed]",
      "text/plain": [
       "<Figure size 2300x1000 with 1 Axes>"
      ]
     },
     "metadata": {},
     "output_type": "display_data"
    }
   ],
   "source": [
    "import seaborn as sns\n",
    "import matplotlib.pyplot as plt\n",
    "#box plot with outliers\n",
    "df_melt=pd.melt(spotify_scaled)\n",
    "df_melt\n",
    "sns.set(rc={'figure.figsize':(23,10)})\n",
    "sns.boxplot(x='variable', y='value', data=df_melt)\n",
    "plt.xlabel(None)\n",
    "plt.title('Distribution of predictors with outliers')"
   ]
  },
  {
   "cell_type": "code",
   "execution_count": 20,
   "metadata": {},
   "outputs": [
    {
     "name": "stderr",
     "output_type": "stream",
     "text": [
      "/Library/Frameworks/Python.framework/Versions/3.12/lib/python3.12/site-packages/seaborn/categorical.py:632: FutureWarning: SeriesGroupBy.grouper is deprecated and will be removed in a future version of pandas.\n",
      "  positions = grouped.grouper.result_index.to_numpy(dtype=float)\n"
     ]
    },
    {
     "data": {
      "text/plain": [
       "Text(0.5, 1.0, 'Distribution of predictors without outliers')"
      ]
     },
     "execution_count": 20,
     "metadata": {},
     "output_type": "execute_result"
    },
    {
     "data": {
      "image/png": "[encoded data removed]",
      "text/plain": [
       "<Figure size 2300x1000 with 1 Axes>"
      ]
     },
     "metadata": {},
     "output_type": "display_data"
    }
   ],
   "source": [
    "#boxplot without outliers\n",
    "df_melt=pd.melt(spotify_scaled)\n",
    "df_melt\n",
    "sns.set(rc={'figure.figsize':(23,10)})\n",
    "sns.boxplot(x='variable', y='value', data=df_melt, showfliers=False)\n",
    "plt.xlabel(None)\n",
    "plt.title('Distribution of predictors without outliers')"
   ]
  },
  {
   "cell_type": "code",
   "execution_count": 21,
   "metadata": {},
   "outputs": [],
   "source": [
    "\n",
    "df_clean=spotify_scaled.copy()\n",
    "for col in df_clean.columns:\n",
    "  q1=df_clean[col].quantile(0.25)\n",
    "  q3=df_clean[col].quantile(0.75)\n",
    "  inq=q3-q1\n",
    "  filter=(df_clean[col] >= q1-1.5*inq) & (df_clean[col] <= q3+1.5*inq)\n",
    "  df_clean[col] = df_clean[col].loc[filter]"
   ]
  },
  {
   "cell_type": "code",
   "execution_count": 26,
   "metadata": {},
   "outputs": [
    {
     "data": {
      "application/vnd.microsoft.datawrangler.viewer.v0+json": {
       "columns": [
        {
         "name": "index",
         "rawType": "int64",
         "type": "integer"
        },
        {
         "name": "Danceability",
         "rawType": "float64",
         "type": "float"
        },
        {
         "name": "Energy",
         "rawType": "float64",
         "type": "float"
        },
        {
         "name": "Loudness",
         "rawType": "float64",
         "type": "float"
        },
        {
         "name": "Speechiness",
         "rawType": "float64",
         "type": "float"
        },
        {
         "name": "Acousticness",
         "rawType": "float64",
         "type": "float"
        },
        {
         "name": "Instrumentalness",
         "rawType": "float64",
         "type": "float"
        },
        {
         "name": "Liveness",
         "rawType": "float64",
         "type": "float"
        },
        {
         "name": "Valence",
         "rawType": "float64",
         "type": "float"
        },
        {
         "name": "Tempo",
         "rawType": "float64",
         "type": "float"
        },
        {
         "name": "Duration_min",
         "rawType": "float64",
         "type": "float"
        },
        {
         "name": "Views",
         "rawType": "float64",
         "type": "float"
        },
        {
         "name": "Likes",
         "rawType": "float64",
         "type": "float"
        },
        {
         "name": "Comments",
         "rawType": "float64",
         "type": "float"
        },
        {
         "name": "Stream",
         "rawType": "float64",
         "type": "float"
        },
        {
         "name": "EnergyLiveness",
         "rawType": "float64",
         "type": "float"
        },
        {
         "name": "Album_type",
         "rawType": "object",
         "type": "string"
        },
        {
         "name": "Artist",
         "rawType": "object",
         "type": "string"
        },
        {
         "name": "Title",
         "rawType": "object",
         "type": "string"
        },
        {
         "name": "Album",
         "rawType": "object",
         "type": "string"
        }
       ],
       "conversionMethod": "pd.DataFrame",
       "ref": "bce7ad32-9d1e-44dd-a13a-5c49e354a557",
       "rows": [
        [
         "0",
         "1.1957583548599342",
         "0.3258703471393062",
         "0.21538572353298435",
         "0.7155238483864224",
         "-0.9892377710489508",
         null,
         null,
         "0.9852839368960739",
         "0.6082453627667989",
         "-0.015237131055069072",
         null,
         null,
         null,
         null,
         "-0.9755181207518054",
         "album",
         "Gorillaz",
         "Gorillaz - Feel Good Inc. (Official Video)",
         "Demon Days"
        ],
        [
         "1",
         "0.3377530975816855",
         "0.3165362876505242",
         "0.4016179801087949",
         "-0.593095688406624",
         "-0.7147280733866427",
         "-0.28651883154609775",
         "-0.8728013816382323",
         "1.3111012271684739",
         "-0.9396445762624447",
         "-0.19481565089546543",
         "-0.07346315073169866",
         "0.24308560967008",
         "0.021740859854288166",
         "0.7321535070653067",
         null,
         "album",
         "Gorillaz",
         "Gorillaz - Rhinestone Eyes [Storyboard Film] (Official Music Video)",
         "Plastic Beach"
        ],
        [
         "2",
         "0.45255661792173235",
         "1.3432828314165397",
         "0.8079233084020855",
         "-0.396981043928102",
         "-0.8699130819963508",
         null,
         "-0.4599550760191647",
         "0.08521367251856844",
         "-0.42412063984572235",
         "-0.07510463065913578",
         "-0.3066896019598667",
         "-0.2062737527897223",
         "-0.10173009672980712",
         "-0.2871073390633726",
         "0.6776461351799509",
         "single",
         "Gorillaz",
         "Gorillaz - New Gold ft. Tame Impala & Bootie Brown (Official Visualiser)",
         "New Gold (feat. Tame Impala and Bootie Brown)"
        ],
        [
         "3",
         "0.4163028746564542",
         "0.4845493584485996",
         "0.4026957130750903",
         "-0.6305357568979781",
         "-1.0184045138045172",
         null,
         "-0.7679609281309512",
         "0.19517700798550314",
         "-0.004718782703185748",
         "0.07450017442622067",
         null,
         null,
         null,
         null,
         "1.5495405619804135",
         "album",
         "Gorillaz",
         "Gorillaz - On Melancholy Hill (Official Video)",
         "Plastic Beach"
        ],
        [
         "4",
         "0.25920332050691614",
         "0.2745330199510054",
         "-0.20449904013562573",
         "0.6620380362559165",
         "-0.9300297970433549",
         "-0.2900670770160676",
         "-0.7336064292415596",
         "-0.02067694681996172",
         "1.601709637796835",
         "0.9301737972719033",
         null,
         null,
         null,
         null,
         "1.1599346052110953",
         "album",
         "Gorillaz",
         "Gorillaz - Clint Eastwood (Official Video)",
         "Gorillaz"
        ]
       ],
       "shape": {
        "columns": 19,
        "rows": 5
       }
      },
      "text/html": [
       "<div>\n",
       "<style scoped>\n",
       "    .dataframe tbody tr th:only-of-type {\n",
       "        vertical-align: middle;\n",
       "    }\n",
       "\n",
       "    .dataframe tbody tr th {\n",
       "        vertical-align: top;\n",
       "    }\n",
       "\n",
       "    .dataframe thead th {\n",
       "        text-align: right;\n",
       "    }\n",
       "</style>\n",
       "<table border=\"1\" class=\"dataframe\">\n",
       "  <thead>\n",
       "    <tr style=\"text-align: right;\">\n",
       "      <th></th>\n",
       "      <th>Danceability</th>\n",
       "      <th>Energy</th>\n",
       "      <th>Loudness</th>\n",
       "      <th>Speechiness</th>\n",
       "      <th>Acousticness</th>\n",
       "      <th>Instrumentalness</th>\n",
       "      <th>Liveness</th>\n",
       "      <th>Valence</th>\n",
       "      <th>Tempo</th>\n",
       "      <th>Duration_min</th>\n",
       "      <th>Views</th>\n",
       "      <th>Likes</th>\n",
       "      <th>Comments</th>\n",
       "      <th>Stream</th>\n",
       "      <th>EnergyLiveness</th>\n",
       "      <th>Album_type</th>\n",
       "      <th>Artist</th>\n",
       "      <th>Title</th>\n",
       "      <th>Album</th>\n",
       "    </tr>\n",
       "  </thead>\n",
       "  <tbody>\n",
       "    <tr>\n",
       "      <th>0</th>\n",
       "      <td>1.195758</td>\n",
       "      <td>0.325870</td>\n",
       "      <td>0.215386</td>\n",
       "      <td>0.715524</td>\n",
       "      <td>-0.989238</td>\n",
       "      <td>NaN</td>\n",
       "      <td>NaN</td>\n",
       "      <td>0.985284</td>\n",
       "      <td>0.608245</td>\n",
       "      <td>-0.015237</td>\n",
       "      <td>NaN</td>\n",
       "      <td>NaN</td>\n",
       "      <td>NaN</td>\n",
       "      <td>NaN</td>\n",
       "      <td>-0.975518</td>\n",
       "      <td>album</td>\n",
       "      <td>Gorillaz</td>\n",
       "      <td>Gorillaz - Feel Good Inc. (Official Video)</td>\n",
       "      <td>Demon Days</td>\n",
       "    </tr>\n",
       "    <tr>\n",
       "      <th>1</th>\n",
       "      <td>0.337753</td>\n",
       "      <td>0.316536</td>\n",
       "      <td>0.401618</td>\n",
       "      <td>-0.593096</td>\n",
       "      <td>-0.714728</td>\n",
       "      <td>-0.286519</td>\n",
       "      <td>-0.872801</td>\n",
       "      <td>1.311101</td>\n",
       "      <td>-0.939645</td>\n",
       "      <td>-0.194816</td>\n",
       "      <td>-0.073463</td>\n",
       "      <td>0.243086</td>\n",
       "      <td>0.021741</td>\n",
       "      <td>0.732154</td>\n",
       "      <td>NaN</td>\n",
       "      <td>album</td>\n",
       "      <td>Gorillaz</td>\n",
       "      <td>Gorillaz - Rhinestone Eyes [Storyboard Film] (...</td>\n",
       "      <td>Plastic Beach</td>\n",
       "    </tr>\n",
       "    <tr>\n",
       "      <th>2</th>\n",
       "      <td>0.452557</td>\n",
       "      <td>1.343283</td>\n",
       "      <td>0.807923</td>\n",
       "      <td>-0.396981</td>\n",
       "      <td>-0.869913</td>\n",
       "      <td>NaN</td>\n",
       "      <td>-0.459955</td>\n",
       "      <td>0.085214</td>\n",
       "      <td>-0.424121</td>\n",
       "      <td>-0.075105</td>\n",
       "      <td>-0.306690</td>\n",
       "      <td>-0.206274</td>\n",
       "      <td>-0.101730</td>\n",
       "      <td>-0.287107</td>\n",
       "      <td>0.677646</td>\n",
       "      <td>single</td>\n",
       "      <td>Gorillaz</td>\n",
       "      <td>Gorillaz - New Gold ft. Tame Impala &amp; Bootie B...</td>\n",
       "      <td>New Gold (feat. Tame Impala and Bootie Brown)</td>\n",
       "    </tr>\n",
       "    <tr>\n",
       "      <th>3</th>\n",
       "      <td>0.416303</td>\n",
       "      <td>0.484549</td>\n",
       "      <td>0.402696</td>\n",
       "      <td>-0.630536</td>\n",
       "      <td>-1.018405</td>\n",
       "      <td>NaN</td>\n",
       "      <td>-0.767961</td>\n",
       "      <td>0.195177</td>\n",
       "      <td>-0.004719</td>\n",
       "      <td>0.074500</td>\n",
       "      <td>NaN</td>\n",
       "      <td>NaN</td>\n",
       "      <td>NaN</td>\n",
       "      <td>NaN</td>\n",
       "      <td>1.549541</td>\n",
       "      <td>album</td>\n",
       "      <td>Gorillaz</td>\n",
       "      <td>Gorillaz - On Melancholy Hill (Official Video)</td>\n",
       "      <td>Plastic Beach</td>\n",
       "    </tr>\n",
       "    <tr>\n",
       "      <th>4</th>\n",
       "      <td>0.259203</td>\n",
       "      <td>0.274533</td>\n",
       "      <td>-0.204499</td>\n",
       "      <td>0.662038</td>\n",
       "      <td>-0.930030</td>\n",
       "      <td>-0.290067</td>\n",
       "      <td>-0.733606</td>\n",
       "      <td>-0.020677</td>\n",
       "      <td>1.601710</td>\n",
       "      <td>0.930174</td>\n",
       "      <td>NaN</td>\n",
       "      <td>NaN</td>\n",
       "      <td>NaN</td>\n",
       "      <td>NaN</td>\n",
       "      <td>1.159935</td>\n",
       "      <td>album</td>\n",
       "      <td>Gorillaz</td>\n",
       "      <td>Gorillaz - Clint Eastwood (Official Video)</td>\n",
       "      <td>Gorillaz</td>\n",
       "    </tr>\n",
       "  </tbody>\n",
       "</table>\n",
       "</div>"
      ],
      "text/plain": [
       "   Danceability    Energy  Loudness  Speechiness  Acousticness  \\\n",
       "0      1.195758  0.325870  0.215386     0.715524     -0.989238   \n",
       "1      0.337753  0.316536  0.401618    -0.593096     -0.714728   \n",
       "2      0.452557  1.343283  0.807923    -0.396981     -0.869913   \n",
       "3      0.416303  0.484549  0.402696    -0.630536     -1.018405   \n",
       "4      0.259203  0.274533 -0.204499     0.662038     -0.930030   \n",
       "\n",
       "   Instrumentalness  Liveness   Valence     Tempo  Duration_min     Views  \\\n",
       "0               NaN       NaN  0.985284  0.608245     -0.015237       NaN   \n",
       "1         -0.286519 -0.872801  1.311101 -0.939645     -0.194816 -0.073463   \n",
       "2               NaN -0.459955  0.085214 -0.424121     -0.075105 -0.306690   \n",
       "3               NaN -0.767961  0.195177 -0.004719      0.074500       NaN   \n",
       "4         -0.290067 -0.733606 -0.020677  1.601710      0.930174       NaN   \n",
       "\n",
       "      Likes  Comments    Stream  EnergyLiveness Album_type    Artist  \\\n",
       "0       NaN       NaN       NaN       -0.975518      album  Gorillaz   \n",
       "1  0.243086  0.021741  0.732154             NaN      album  Gorillaz   \n",
       "2 -0.206274 -0.101730 -0.287107        0.677646     single  Gorillaz   \n",
       "3       NaN       NaN       NaN        1.549541      album  Gorillaz   \n",
       "4       NaN       NaN       NaN        1.159935      album  Gorillaz   \n",
       "\n",
       "                                               Title  \\\n",
       "0         Gorillaz - Feel Good Inc. (Official Video)   \n",
       "1  Gorillaz - Rhinestone Eyes [Storyboard Film] (...   \n",
       "2  Gorillaz - New Gold ft. Tame Impala & Bootie B...   \n",
       "3     Gorillaz - On Melancholy Hill (Official Video)   \n",
       "4         Gorillaz - Clint Eastwood (Official Video)   \n",
       "\n",
       "                                           Album  \n",
       "0                                     Demon Days  \n",
       "1                                  Plastic Beach  \n",
       "2  New Gold (feat. Tame Impala and Bootie Brown)  \n",
       "3                                  Plastic Beach  \n",
       "4                                       Gorillaz  "
      ]
     },
     "execution_count": 26,
     "metadata": {},
     "output_type": "execute_result"
    }
   ],
   "source": [
    "#merge the cleaned data with the categorical columns\n",
    "spotify_cleaned = pd.concat([df_clean, spotify[['Album_type', 'Artist', 'Title','Album']]], axis=1)\n",
    "spotify_cleaned.head()"
   ]
  },
  {
   "cell_type": "code",
   "execution_count": 31,
   "metadata": {},
   "outputs": [],
   "source": [
    "X = spotify_cleaned.drop(columns=['Stream','Views','Likes','Comments'])\n",
    "X.fillna(0, inplace=True)\n",
    "y = np.log1p(spotify_cleaned['Stream'])\n",
    "y = y.fillna(0)\n"
   ]
  },
  {
   "cell_type": "code",
   "execution_count": null,
   "metadata": {},
   "outputs": [],
   "source": [
    "transformer = ColumnTransformer(transformers=[\n",
    "    ('cat', OneHotEncoder(handle_unknown='ignore'), ['Album_type', 'Artist']),\n",
    "    ('text_title', TfidfVectorizer(stop_words='english', max_features=100), 'Title'),\n",
    "    ('text_album', TfidfVectorizer(stop_words='english', max_features=100), 'Album')\n",
    "])\n",
    "\n",
    "pipeline = make_pipeline(transformer, \n",
    "                         RandomForestRegressor(n_estimators=100, random_state=42))\n",
    "\n",
    "X_train, X_test, y_train, y_test = train_test_split(X, y, test_size=0.2, random_state=42)\n",
    "\n",
    "pipeline.fit(X_train, y_train)\n",
    "\n",
    "y_pred = pipeline.predict(X_test)\n",
    "\n",
    "print('MSE:', mean_squared_error(y_test, y_pred))\n",
    "print('R2:', r2_score(y_test, y_pred))"
   ]
  },
  {
   "cell_type": "code",
   "execution_count": 16,
   "metadata": {},
   "outputs": [
    {
     "data": {
      "text/plain": [
       "1484.8620149103576"
      ]
     },
     "execution_count": 16,
     "metadata": {},
     "output_type": "execute_result"
    }
   ],
   "source": [
    "np.expm1(mean_squared_error(y_test, y_pred))"
   ]
  },
  {
   "cell_type": "code",
   "execution_count": null,
   "metadata": {},
   "outputs": [],
   "source": [
    "X"
   ]
  },
  {
   "cell_type": "code",
   "execution_count": null,
   "metadata": {},
   "outputs": [],
   "source": []
  }
 ],
 "metadata": {
  "kernelspec": {
   "display_name": "base",
   "language": "python",
   "name": "python3"
  },
  "language_info": {
   "codemirror_mode": {
    "name": "ipython",
    "version": 3
   },
   "file_extension": ".py",
   "mimetype": "text/x-python",
   "name": "python",
   "nbconvert_exporter": "python",
   "pygments_lexer": "ipython3",
   "version": "3.11.4"
  }
 },
 "nbformat": 4,
 "nbformat_minor": 2
}
